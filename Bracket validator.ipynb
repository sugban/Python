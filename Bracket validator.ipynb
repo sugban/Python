{
 "cells": [
  {
   "cell_type": "markdown",
   "metadata": {},
   "source": [
    "Write a Python class to find validity of a string of parentheses,'(', ')', '{', '}', '[' and ']. \n",
    "These brackets must be close in the correct order,\n",
    "for example \"()\" and \"()[]{}\" are valid but \"[)\", \"({[)]\" and \"{{{\" are invalid."
   ]
  },
  {
   "cell_type": "code",
   "execution_count": 29,
   "metadata": {},
   "outputs": [
    {
     "name": "stdout",
     "output_type": "stream",
     "text": [
      "Valid string\n",
      "Valid string\n",
      "Bracket closing is missing\n"
     ]
    }
   ],
   "source": [
    "string = '(5,50,[39,93,31,45,20),4,8,55]'  \n",
    "\n",
    "\n",
    "if ('(' and ')') in string:\n",
    "    print('Valid string')\n",
    "if ('[' and ']') in string:\n",
    "    print('Valid string')\n",
    "if ('{' and '}') in string:\n",
    "    print('Valid string')\n",
    "else:\n",
    "    print('Bracket closing is missing')\n",
    "    \n",
    "\n",
    "\n"
   ]
  },
  {
   "cell_type": "code",
   "execution_count": null,
   "metadata": {},
   "outputs": [],
   "source": []
  },
  {
   "cell_type": "code",
   "execution_count": null,
   "metadata": {},
   "outputs": [],
   "source": []
  }
 ],
 "metadata": {
  "kernelspec": {
   "display_name": "Python 3",
   "language": "python",
   "name": "python3"
  },
  "language_info": {
   "codemirror_mode": {
    "name": "ipython",
    "version": 3
   },
   "file_extension": ".py",
   "mimetype": "text/x-python",
   "name": "python",
   "nbconvert_exporter": "python",
   "pygments_lexer": "ipython3",
   "version": "3.7.6"
  }
 },
 "nbformat": 4,
 "nbformat_minor": 4
}
