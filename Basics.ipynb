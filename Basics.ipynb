{
 "cells": [
  {
   "cell_type": "code",
   "execution_count": 2,
   "metadata": {},
   "outputs": [
    {
     "name": "stdout",
     "output_type": "stream",
     "text": [
      "Twinkle, twinkle, little star,\n",
      " \tHow I wonder what you are! \n",
      "\t\tUp above the world so high, \n",
      "\t\tLike a diamond in the sky. \n",
      "Twinkle, twinkle, little star, \n",
      "\tHow I wonder what you are\n"
     ]
    }
   ],
   "source": [
    "print('''Twinkle, twinkle, little star,\\n \\tHow I wonder what you are! \\n\\t\\tUp above the world so high, \\n\\t\\tLike a diamond in the sky. \\nTwinkle, twinkle, little star, \\n\\tHow I wonder what you are''')"
   ]
  },
  {
   "cell_type": "code",
   "execution_count": 4,
   "metadata": {},
   "outputs": [
    {
     "name": "stdout",
     "output_type": "stream",
     "text": [
      "Python version:  3.7.6 (default, Jan  8 2020, 20:23:39) [MSC v.1916 64 bit (AMD64)]\n",
      "Version info.:  sys.version_info(major=3, minor=7, micro=6, releaselevel='final', serial=0)\n"
     ]
    }
   ],
   "source": [
    "# to get a python version in output\n",
    "\n",
    "import sys\n",
    "\n",
    "print(\"Python version: \",sys.version)\n",
    "\n",
    "print(\"Version info.: \", sys.version_info)\n"
   ]
  },
  {
   "cell_type": "code",
   "execution_count": 31,
   "metadata": {},
   "outputs": [
    {
     "name": "stdout",
     "output_type": "stream",
     "text": [
      "2020-06-02\n"
     ]
    }
   ],
   "source": [
    "# to display current date and time\n",
    "\n",
    "import datetime\n",
    "\n",
    "print(datetime.date.today())\n",
    "# print(datetime.datetime.nowwe('%H:%M:%S'))"
   ]
  },
  {
   "cell_type": "code",
   "execution_count": 20,
   "metadata": {},
   "outputs": [
    {
     "name": "stdout",
     "output_type": "stream",
     "text": [
      "Current date and time : \n",
      "2020-06-02 16:08:05\n"
     ]
    }
   ],
   "source": [
    "import datetime\n",
    "now = datetime.datetime.now()\n",
    "print (\"Current date and time : \")\n",
    "print (now.strftime(\"%Y-%m-%d %H:%M:%S\"))"
   ]
  },
  {
   "cell_type": "code",
   "execution_count": 38,
   "metadata": {},
   "outputs": [
    {
     "name": "stdout",
     "output_type": "stream",
     "text": [
      "Enter the radius: 1.1\n",
      "Area is :  3.8013271108436504\n"
     ]
    }
   ],
   "source": [
    "# Write a Python program which accepts the radius of a circle from the user and compute the area.\n",
    "from math import pi\n",
    "\n",
    "radius = float(input('Enter the radius: '))\n",
    "area = pi * (radius**2)\n",
    "print('Area is : ',area)"
   ]
  },
  {
   "cell_type": "code",
   "execution_count": 43,
   "metadata": {},
   "outputs": [
    {
     "name": "stdout",
     "output_type": "stream",
     "text": [
      "Name: Sugandh Bansal\n",
      "Bansal Sugandh\n"
     ]
    }
   ],
   "source": [
    "# Write a Python program which accepts the user's first and \n",
    "# last name and print them in reverse order with a space between them.\n",
    "\n",
    "fname,lname = input('Name: ').split(' ')\n",
    "\n",
    "print(lname,fname)\n",
    "\n",
    "# for i in name[::-1]:\n",
    "#     print(i,' ',end='')\n",
    "\n",
    "# print(name[::-1])"
   ]
  },
  {
   "cell_type": "code",
   "execution_count": 3,
   "metadata": {},
   "outputs": [
    {
     "name": "stdout",
     "output_type": "stream",
     "text": [
      "Enter few numbers with comma: 32,44,31,56,77\n",
      "['32', '44', '31', '56', '77']\n",
      "('32', '44', '31', '56', '77')\n"
     ]
    }
   ],
   "source": [
    "#  Write a Python program which accepts a sequence of comma-separated numbers from user and generate a list \n",
    "# and a tuple with those numbers.\n",
    "\n",
    "num = input('Enter few numbers with comma: ').split(',')\n",
    "numlist = []\n",
    "numtup = ()\n",
    "for i in num:\n",
    "    numlist.append(i)\n",
    "\n",
    "print(numlist)\n",
    "numtup = tuple(numlist)\n",
    "print(numtup)"
   ]
  },
  {
   "cell_type": "code",
   "execution_count": 1,
   "metadata": {},
   "outputs": [
    {
     "name": "stdout",
     "output_type": "stream",
     "text": [
      "Enter a file name with extension: abc.java\n",
      "File extension is  java\n"
     ]
    }
   ],
   "source": [
    "# accept a filename from the user and print the extension of that.\n",
    "\n",
    "file_name = input('Enter a file name with extension: ')\n",
    "\n",
    "name,ext = file_name.split('.')\n",
    "\n",
    "print('File extension is ',ext)\n"
   ]
  },
  {
   "cell_type": "code",
   "execution_count": 6,
   "metadata": {},
   "outputs": [
    {
     "name": "stdout",
     "output_type": "stream",
     "text": [
      "['Red', 'Green', 'White', 'Black'] \n",
      "\n",
      "First color from list is: Red , and last color is: Black \n"
     ]
    }
   ],
   "source": [
    "#  display the first and last colors from the following list. \n",
    "color_list = [\"Red\",\"Green\",\"White\" ,\"Black\"]\n",
    "\n",
    "print(color_list,'\\n')\n",
    "\n",
    "print(f'First color from list is: {color_list[0]} , and last color is: {color_list[-1]} ')"
   ]
  },
  {
   "cell_type": "code",
   "execution_count": 15,
   "metadata": {},
   "outputs": [
    {
     "name": "stdout",
     "output_type": "stream",
     "text": [
      "The examination is start from: 11 / 12 / 2014 \n"
     ]
    }
   ],
   "source": [
    "# display the examination schedule. (extract the date from exam_st_date)\n",
    "# Sample Output : The examination will start from : 11 / 12 / 2014\n",
    "\n",
    "exam_st_date = (11, 12, 2014)\n",
    "\n",
    "print('The examination is start from: %i / %i / %i '%exam_st_date)"
   ]
  },
  {
   "cell_type": "code",
   "execution_count": 37,
   "metadata": {},
   "outputs": [
    {
     "name": "stdout",
     "output_type": "stream",
     "text": [
      "Input an integer : 5\n",
      "615\n"
     ]
    }
   ],
   "source": [
    "#  accepts an integer (n) and computes the value of n+nn+nnn\n",
    "\n",
    "# algorithm ( 5 --> 5 + 55 ---> 5 + 55+ 555)\n",
    "\n",
    "a = int(input(\"Input an integer : \"))\n",
    "n1 = int( \"%s\" % a )\n",
    "n2 = int( \"%s%s\" % (a,a) )\n",
    "n3 = int( \"%s%s%s\" % (a,a,a) )\n",
    "print (n1+n2+n3)"
   ]
  },
  {
   "cell_type": "code",
   "execution_count": 43,
   "metadata": {},
   "outputs": [
    {
     "name": "stdout",
     "output_type": "stream",
     "text": [
      "Return the absolute value of the argument.\n"
     ]
    }
   ],
   "source": [
    "# print the documents (syntax, description etc.) of Python built-in function(s)\n",
    "\n",
    "print(abs.__doc__)\n"
   ]
  },
  {
   "cell_type": "code",
   "execution_count": 49,
   "metadata": {},
   "outputs": [
    {
     "name": "stdout",
     "output_type": "stream",
     "text": [
      "Input the year : 2020\n",
      "Input the month in number : 06\n",
      "\n",
      "      June 2020\n",
      "Mo Tu We Th Fr Sa Su\n",
      " 1  2  3  4  5  6  7\n",
      " 8  9 10 11 12 13 14\n",
      "15 16 17 18 19 20 21\n",
      "22 23 24 25 26 27 28\n",
      "29 30\n",
      "\n"
     ]
    }
   ],
   "source": [
    "# print the calendar of a given month and year\n",
    "\n",
    "import calendar\n",
    "year_n = int(input(\"Input the year : \"))\n",
    "month_n = int(input(\"Input the month in number : \"))\n",
    "print('\\n',calendar.month(year_n, month_n))"
   ]
  },
  {
   "cell_type": "code",
   "execution_count": 60,
   "metadata": {},
   "outputs": [
    {
     "name": "stdout",
     "output_type": "stream",
     "text": [
      "2014-07-02\n",
      "2014-07-11\n",
      "9\n"
     ]
    }
   ],
   "source": [
    "# calculate number of days between two dates\n",
    "\n",
    "import datetime\n",
    "\n",
    "date1 = datetime.date( 2014, 7, 2)\n",
    "date2 = datetime.date(2014, 7, 11)\n",
    "print(date1)\n",
    "print(date2)\n",
    "\n",
    "days_btw = date2 - date1\n",
    "print(days_btw.days)"
   ]
  },
  {
   "cell_type": "code",
   "execution_count": 67,
   "metadata": {},
   "outputs": [
    {
     "name": "stdout",
     "output_type": "stream",
     "text": [
      "904.7786842338603\n",
      "18.84955592153876\n"
     ]
    }
   ],
   "source": [
    "# get the volume of a sphere with radius 6\n",
    "# The volume of the sphere is : V = 4/3 × π × r3 = π × d3/6\n",
    "from math import pi\n",
    "\n",
    "r = 6\n",
    "\n",
    "vol = 4/3*(pi*r**3)\n",
    "\n",
    "print(vol)"
   ]
  },
  {
   "cell_type": "code",
   "execution_count": 74,
   "metadata": {},
   "outputs": [
    {
     "name": "stdout",
     "output_type": "stream",
     "text": [
      "Enter a number: 20\n",
      "The absolute value is :  6\n"
     ]
    }
   ],
   "source": [
    "# get the difference between a given number and 17, if the number is greater than 17 return double the absolute difference.\n",
    "\n",
    "num = int(input('Enter a number: '))\n",
    "\n",
    "diff = num - 17\n",
    "\n",
    "if num > 17:\n",
    "    print('The absolute value is : ',diff*2)\n",
    "else:\n",
    "    print('The difference is : ',abs(diff))"
   ]
  },
  {
   "cell_type": "code",
   "execution_count": 75,
   "metadata": {},
   "outputs": [
    {
     "name": "stdout",
     "output_type": "stream",
     "text": [
      "10\n",
      "3\n"
     ]
    }
   ],
   "source": [
    "def difference(n):\n",
    "    if n <= 17:\n",
    "        return 17 - n\n",
    "    else:\n",
    "        return (n - 17) * 2 \n",
    "\n",
    "print(difference(22))\n",
    "print(difference(14))"
   ]
  },
  {
   "cell_type": "code",
   "execution_count": 78,
   "metadata": {},
   "outputs": [
    {
     "name": "stdout",
     "output_type": "stream",
     "text": [
      "502 is within 100 of 1000\n",
      "1159 is within 100 of 2000\n"
     ]
    }
   ],
   "source": [
    "#  test whether a number is within 100 of 1000 or 2000\n",
    "\n",
    "def test(num):\n",
    "    if num <= 1000:\n",
    "        print(f'{num} is within 100 of 1000')\n",
    "    if num > 1000 and num <= 2000:\n",
    "        print(f'{num} is within 100 of 2000')\n",
    "\n",
    "test(502)\n",
    "test(1159)"
   ]
  },
  {
   "cell_type": "code",
   "execution_count": null,
   "metadata": {},
   "outputs": [],
   "source": []
  }
 ],
 "metadata": {
  "kernelspec": {
   "display_name": "Python 3",
   "language": "python",
   "name": "python3"
  },
  "language_info": {
   "codemirror_mode": {
    "name": "ipython",
    "version": 3
   },
   "file_extension": ".py",
   "mimetype": "text/x-python",
   "name": "python",
   "nbconvert_exporter": "python",
   "pygments_lexer": "ipython3",
   "version": "3.7.6"
  }
 },
 "nbformat": 4,
 "nbformat_minor": 4
}
