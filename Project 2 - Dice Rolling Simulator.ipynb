{
 "cells": [
  {
   "cell_type": "markdown",
   "metadata": {},
   "source": [
    "The dice rolling simulator will imitate the experience of rolling a dice. It will generate a random number and the user can play again and again to get a number from the dice until the user decides to quit the program."
   ]
  },
  {
   "cell_type": "code",
   "execution_count": 4,
   "metadata": {},
   "outputs": [
    {
     "name": "stdout",
     "output_type": "stream",
     "text": [
      "Do you want to roll the dice(y/n): \n",
      "y\n",
      "[-----]\n",
      "|--0--|\n",
      "[-----]\n",
      "\n",
      "[--0--]\n",
      "|-----|\n",
      "[--0--]\n",
      "\n",
      "Do you want to roll the dice(y/n): \n",
      "y\n",
      "[--0--]\n",
      "|-----|\n",
      "[--0--]\n",
      "\n",
      "[-0-0-]\n",
      "|--0--|\n",
      "[-0-0-]\n",
      "\n",
      "Do you want to roll the dice(y/n): \n",
      "yy\n",
      "Do you want to roll the dice(y/n): \n",
      "y\n",
      "[-0-0-]\n",
      "|-----|\n",
      "[-0-0-]\n",
      "\n",
      "[-0-0-]\n",
      "|--0--|\n",
      "[-0-0-]\n",
      "\n",
      "Do you want to roll the dice(y/n): \n",
      "y\n",
      "[-0-0-]\n",
      "|-0-0-|\n",
      "[-0-0-]\n",
      "\n",
      "[-0-0-]\n",
      "|-0-0-|\n",
      "[-0-0-]\n",
      "\n",
      "WOW! you got same number dice, you won!\n"
     ]
    }
   ],
   "source": [
    "import random\n",
    "\n",
    "game = False\n",
    "\n",
    "while not game:\n",
    "    player = input('Do you want to roll the dice(y/n): \\n').lower()\n",
    "    \n",
    "    if player == 'y' or player == 'yes':\n",
    "        dice1 = random.randint(1,6)\n",
    "        dice2 = random.randint(1,6)\n",
    "        if dice1 == 1 or dice2 == 1:\n",
    "            print('[-----]')\n",
    "            print('|--0--|')\n",
    "            print('[-----]\\n')\n",
    "        if dice1 == 2 or dice2 == 2:\n",
    "            print('[--0--]')\n",
    "            print('|-----|')\n",
    "            print('[--0--]\\n')\n",
    "        if dice1 == 3 or dice2 == 3:\n",
    "            print('[--0--]')\n",
    "            print('|-----|')\n",
    "            print('[-0-0-]\\n')\n",
    "        if dice1 == 4 or dice2 == 4:\n",
    "            print('[-0-0-]')\n",
    "            print('|-----|')\n",
    "            print('[-0-0-]\\n')\n",
    "        if dice1 == 5 or dice2 == 5:\n",
    "            print('[-0-0-]')\n",
    "            print('|--0--|')\n",
    "            print('[-0-0-]\\n')\n",
    "        if dice1 == 6 or dice2 == 6:\n",
    "            print('[-0-0-]')\n",
    "            print('|-0-0-|')\n",
    "            print('[-0-0-]\\n')\n",
    "            \n",
    "        if dice1 == dice2:\n",
    "            print('[-0-0-]')\n",
    "            print('|-0-0-|')\n",
    "            print('[-0-0-]\\n')\n",
    "            \n",
    "            print('WOW! you got same number dice, you won!')\n",
    "            break\n",
    "    if player == 'n' or player == 'no':\n",
    "        print('Thanks for playing with us, bye!')\n",
    "        break\n",
    "\n"
   ]
  },
  {
   "cell_type": "code",
   "execution_count": null,
   "metadata": {},
   "outputs": [],
   "source": []
  }
 ],
 "metadata": {
  "kernelspec": {
   "display_name": "Python 3",
   "language": "python",
   "name": "python3"
  },
  "language_info": {
   "codemirror_mode": {
    "name": "ipython",
    "version": 3
   },
   "file_extension": ".py",
   "mimetype": "text/x-python",
   "name": "python",
   "nbconvert_exporter": "python",
   "pygments_lexer": "ipython3",
   "version": "3.7.6"
  }
 },
 "nbformat": 4,
 "nbformat_minor": 4
}
