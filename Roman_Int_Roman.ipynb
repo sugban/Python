{
 "cells": [
  {
   "cell_type": "markdown",
   "metadata": {},
   "source": [
    "Write a Python class to convert an integer to a roman numeral."
   ]
  },
  {
   "cell_type": "code",
   "execution_count": 35,
   "metadata": {},
   "outputs": [
    {
     "name": "stdout",
     "output_type": "stream",
     "text": [
      "Enter numbers: 199\n",
      "CXCIX\n"
     ]
    }
   ],
   "source": [
    "class Convert:\n",
    "\n",
    "    roman_dict = {\n",
    "        1000 : 'M',\n",
    "        900 :'CM',\n",
    "        500 :'D',\n",
    "        400 : 'CD',\n",
    "        100 : 'C',\n",
    "        90 : 'XC',\n",
    "        50 : 'L',\n",
    "        40 : 'XL',\n",
    "        10 :'X',\n",
    "        9 : 'IX',\n",
    "        5 :'V',\n",
    "        4 : 'IV',\n",
    "        1 : 'I'\n",
    "    }\n",
    "    \n",
    "    def __init__(self, num):\n",
    "        self.num = num\n",
    "        \n",
    "    def int2roman(self):\n",
    "        \n",
    "        roman = ''\n",
    "\n",
    "        while self.num > 0:\n",
    "            for n,r in self.roman_dict.items():\n",
    "                while self.num >= n:\n",
    "                    roman += r\n",
    "                    self.num -= n\n",
    "\n",
    "        return (roman)\n",
    "\n",
    "num = int(input('Enter numbers: '))\n",
    "rom = Convert(num)\n",
    "print(rom.int2roman())"
   ]
  },
  {
   "cell_type": "markdown",
   "metadata": {},
   "source": [
    "Write a Python class to convert a roman numeral to an integer."
   ]
  },
  {
   "cell_type": "code",
   "execution_count": 17,
   "metadata": {},
   "outputs": [
    {
     "name": "stdout",
     "output_type": "stream",
     "text": [
      "Enter a roman number: CXCIX\n",
      "199\n",
      "None\n"
     ]
    }
   ],
   "source": [
    "class Convert:\n",
    "\n",
    "    roman_dict = {\n",
    "        'M' : 1000,\n",
    "        'CM' : 900,\n",
    "        'D' : 500,\n",
    "        'CD' : 400,\n",
    "        'C' : 100,\n",
    "        'XC' : 90,\n",
    "        'L' : 50,\n",
    "        'XL' : 40,\n",
    "        'X' : 10,\n",
    "        'IX' : 9,\n",
    "        'V' : 5,\n",
    "        'IV' : 4,\n",
    "        'I' : 1\n",
    "    }\n",
    "    \n",
    "    def __init__(self, roman):\n",
    "        self.roman = roman\n",
    "        \n",
    "    def roman2int(self,num=0):\n",
    "        \n",
    "        try:\n",
    "            roman_value = self.roman[:2]\n",
    "            \n",
    "            if not self.roman:\n",
    "                return num\n",
    "            \n",
    "            elif roman_value in self.roman_dict.keys():\n",
    "                num = num + self.roman_dict[roman_value]\n",
    "                self.roman = self.roman.replace(roman_value,\"\",1)\n",
    "                \n",
    "            elif roman_value[0] in self.roman_dict.keys():\n",
    "                num = num + self.roman_dict[roman_value[0]]\n",
    "                self.roman = self.roman.replace(roman_value[0],\"\",1)\n",
    "            \n",
    "            roman2int(self.roman,num)\n",
    "        except:\n",
    "            pass\n",
    "        \n",
    "roman = input('Enter a roman number: ').upper()\n",
    "rom = Convert(roman)\n",
    "print(rom.roman2int())"
   ]
  },
  {
   "cell_type": "markdown",
   "metadata": {},
   "source": [
    "Program from roman to int without OOP"
   ]
  },
  {
   "cell_type": "code",
   "execution_count": 11,
   "metadata": {},
   "outputs": [
    {
     "name": "stdout",
     "output_type": "stream",
     "text": [
      "24\n"
     ]
    }
   ],
   "source": [
    "roman_dict = {\n",
    "        'M' : 1000,\n",
    "        'CM' : 900,\n",
    "        'D' : 500,\n",
    "        'CD' : 400,\n",
    "        'C' : 100,\n",
    "        'XC' : 90,\n",
    "        'L' : 50,\n",
    "        'XL' : 40,\n",
    "        'X' : 10,\n",
    "        'IX' : 9,\n",
    "        'V' : 5,\n",
    "        'IV' : 4,\n",
    "        'I' : 1\n",
    "    }\n",
    "    \n",
    "\n",
    "roman = 'XXIV'\n",
    "\n",
    "def roman2int(roman,num=0):\n",
    "        \n",
    "        try:\n",
    "            roman_value = roman[:2]\n",
    "#             print('roman_value :' , roman_value)\n",
    "            if not roman:\n",
    "                print(num)\n",
    "                return \n",
    "            elif roman_value in roman_dict.keys():\n",
    "                num = num + roman_dict[roman_value]\n",
    "#                 print('if: ',roman_value,' : ',num)\n",
    "                roman = roman.replace(roman_value,\"\",1)\n",
    "                \n",
    "            elif roman_value[0] in roman_dict.keys():\n",
    "                num = num + roman_dict[roman_value[0]]\n",
    "#                 print('elif: ',roman_value[0],' : ',num)\n",
    "                roman = roman.replace(roman_value[0],\"\",1)\n",
    "            \n",
    "            roman2int(roman,num)\n",
    "        except:\n",
    "            pass\n",
    "    \n",
    "    \n",
    "roman2int(roman)"
   ]
  },
  {
   "cell_type": "code",
   "execution_count": null,
   "metadata": {},
   "outputs": [],
   "source": []
  }
 ],
 "metadata": {
  "kernelspec": {
   "display_name": "Python 3",
   "language": "python",
   "name": "python3"
  },
  "language_info": {
   "codemirror_mode": {
    "name": "ipython",
    "version": 3
   },
   "file_extension": ".py",
   "mimetype": "text/x-python",
   "name": "python",
   "nbconvert_exporter": "python",
   "pygments_lexer": "ipython3",
   "version": "3.7.6"
  }
 },
 "nbformat": 4,
 "nbformat_minor": 4
}
