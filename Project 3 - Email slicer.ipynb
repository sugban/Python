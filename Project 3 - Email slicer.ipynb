{
 "cells": [
  {
   "cell_type": "markdown",
   "metadata": {},
   "source": [
    "The email slicer is a handy program to get the username and domain name from an email address. You can customize and send a message to the user with this information."
   ]
  },
  {
   "cell_type": "code",
   "execution_count": 4,
   "metadata": {},
   "outputs": [
    {
     "name": "stdout",
     "output_type": "stream",
     "text": [
      "Enter your email-id: \n",
      "sugandh@gmail.com\n",
      "\n",
      "Your user name is sugandh\n",
      " and your domain name is gmail.com.\n"
     ]
    }
   ],
   "source": [
    "mail = input('Enter your email-id: \\n')\n",
    "\n",
    "name,domain = mail.split('@')\n",
    "\n",
    "print(f'\\nYour user name is {name}\\n and your domain name is {domain}.')"
   ]
  },
  {
   "cell_type": "code",
   "execution_count": 11,
   "metadata": {},
   "outputs": [
    {
     "name": "stdout",
     "output_type": "stream",
     "text": [
      "gilmoure@icloud.com\n",
      " ->\n",
      "User name is gilmoure\n",
      "Domain name is icloud.com\n",
      ".\n",
      "novanet@mac.com\n",
      " ->\n",
      "User name is novanet\n",
      "Domain name is mac.com\n",
      ".\n",
      "fangorn@gmail.com\n",
      " ->\n",
      "User name is fangorn\n",
      "Domain name is gmail.com\n",
      ".\n",
      "webteam@yahoo.com\n",
      " ->\n",
      "User name is webteam\n",
      "Domain name is yahoo.com\n",
      ".\n",
      "drhyde@yahoo.com\n",
      " ->\n",
      "User name is drhyde\n",
      "Domain name is yahoo.com\n",
      ".\n",
      "odlyzko@optonline.net\n",
      " ->\n",
      "User name is odlyzko\n",
      "Domain name is optonline.net\n",
      ".\n",
      "ubergeeb@icloud.com\n",
      " ->\n",
      "User name is ubergeeb\n",
      "Domain name is icloud.com\n",
      ".\n",
      "ranasta@gmail.com\n",
      " ->\n",
      "User name is ranasta\n",
      "Domain name is gmail.com\n",
      ".\n",
      "noodles@comcast.net\n",
      " ->\n",
      "User name is noodles\n",
      "Domain name is comcast.net\n",
      ".\n",
      "barnett@msn.com\n",
      " ->\n",
      "User name is barnett\n",
      "Domain name is msn.com\n",
      ".\n",
      "jlbaumga@att.net\n",
      " ->\n",
      "User name is jlbaumga\n",
      "Domain name is att.net\n",
      ".\n",
      "citizenl@live.com ->\n",
      "User name is citizenl\n",
      "Domain name is live.com.\n"
     ]
    }
   ],
   "source": [
    "file = open('emailids','r')\n",
    "data = file.readlines()\n",
    "for mail in data:\n",
    "    print(mail,'->')\n",
    "    name,domain = mail.split('@')\n",
    "\n",
    "    print(f'User name is {name}\\nDomain name is {domain}.')"
   ]
  },
  {
   "cell_type": "code",
   "execution_count": null,
   "metadata": {},
   "outputs": [],
   "source": []
  }
 ],
 "metadata": {
  "kernelspec": {
   "display_name": "Python 3",
   "language": "python",
   "name": "python3"
  },
  "language_info": {
   "codemirror_mode": {
    "name": "ipython",
    "version": 3
   },
   "file_extension": ".py",
   "mimetype": "text/x-python",
   "name": "python",
   "nbconvert_exporter": "python",
   "pygments_lexer": "ipython3",
   "version": "3.7.6"
  }
 },
 "nbformat": 4,
 "nbformat_minor": 4
}
