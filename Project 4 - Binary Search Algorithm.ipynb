{
 "cells": [
  {
   "cell_type": "markdown",
   "metadata": {},
   "source": [
    "The binary search algorithm is a very effective way to search for an element in a long list. The idea is to implement the algorithm that searches for an element in a list."
   ]
  },
  {
   "cell_type": "code",
   "execution_count": 10,
   "metadata": {},
   "outputs": [
    {
     "name": "stdout",
     "output_type": "stream",
     "text": [
      "4\n",
      "9\n",
      "None\n"
     ]
    }
   ],
   "source": [
    "items = [6, 8, 19, 20, 23, 41, 49, 53, 56, 87]\n",
    "\n",
    "def binarysearch(item, itemlist):\n",
    "    listsize = len(itemlist) - 1\n",
    "    lowerIdx = 0\n",
    "    upperIdx = listsize\n",
    "\n",
    "    while lowerIdx <= upperIdx:\n",
    "        midIdx = (lowerIdx + upperIdx)// 2\n",
    "\n",
    "        if itemlist[midIdx] == item:\n",
    "            return midIdx\n",
    "        \n",
    "        if item > itemlist[midIdx]:\n",
    "            lowerIdx = midIdx + 1\n",
    "        else:\n",
    "            upperIdx = midIdx - 1\n",
    "\n",
    "    if lowerIdx > upperIdx:\n",
    "        return None\n",
    "\n",
    "\n",
    "print(binarysearch(23, items))\n",
    "print(binarysearch(87, items))\n",
    "print(binarysearch(250, items))"
   ]
  },
  {
   "cell_type": "code",
   "execution_count": null,
   "metadata": {},
   "outputs": [],
   "source": []
  },
  {
   "cell_type": "code",
   "execution_count": null,
   "metadata": {},
   "outputs": [],
   "source": []
  }
 ],
 "metadata": {
  "kernelspec": {
   "display_name": "Python 3",
   "language": "python",
   "name": "python3"
  },
  "language_info": {
   "codemirror_mode": {
    "name": "ipython",
    "version": 3
   },
   "file_extension": ".py",
   "mimetype": "text/x-python",
   "name": "python",
   "nbconvert_exporter": "python",
   "pygments_lexer": "ipython3",
   "version": "3.7.6"
  }
 },
 "nbformat": 4,
 "nbformat_minor": 4
}
