{
 "cells": [
  {
   "cell_type": "markdown",
   "metadata": {},
   "source": [
    "Make a program which randomly chooses a number to guess and then the user will have a few chances to guess the number correctly. In each wrong attempt, the computer will give a hint that the number is greater or smaller than the one you have guessed"
   ]
  },
  {
   "cell_type": "code",
   "execution_count": 4,
   "metadata": {},
   "outputs": [
    {
     "name": "stdout",
     "output_type": "stream",
     "text": [
      "Guess a number: \n",
      "6\n",
      "Wroung number. You guessed bigger number, try smaller!\n",
      "\n",
      "Guess a number: \n",
      "3\n",
      "You guessed the right number. You won!\n",
      "\n",
      "You guessed wrong number 1 times.\n"
     ]
    }
   ],
   "source": [
    "import random\n",
    "\n",
    "num = random.randint(0,10)\n",
    "count = 0\n",
    "game = False\n",
    "\n",
    "while not game:\n",
    "    guess = int(input('Guess a number: \\n'))\n",
    "    if guess == num:\n",
    "        print('You guessed the right number. You won!\\n')\n",
    "        break\n",
    "    if guess > num:\n",
    "        print('Wroung number. You guessed bigger number, try smaller!\\n')\n",
    "        count += 1\n",
    "    if guess < num:\n",
    "        print('Wroung number. You guessed smaller number, try bigger!\\n')\n",
    "        count += 1\n",
    "        \n",
    "print(f'You guessed wrong number {count} times.')"
   ]
  },
  {
   "cell_type": "code",
   "execution_count": 11,
   "metadata": {},
   "outputs": [
    {
     "name": "stdout",
     "output_type": "stream",
     "text": [
      "Guess a number: \n",
      "1\n",
      "Wroung number. You guessed smaller number, try bigger!\n",
      "\n",
      "Guess a number: \n",
      "9\n",
      "Wroung number. You guessed bigger number, try smaller!\n",
      "\n",
      "Guess a number: \n",
      "2\n",
      "Wroung number. You guessed smaller number, try bigger!\n",
      "\n",
      "Guess a number: \n",
      "8\n",
      "Wroung number. You guessed bigger number, try smaller!\n",
      "\n",
      "Guess a number: \n",
      "3\n",
      "Wroung number. You guessed smaller number, try bigger!\n",
      "\n",
      "you lost!!!\n",
      "You guessed wrong number 5 times.\n"
     ]
    }
   ],
   "source": [
    "import random\n",
    "\n",
    "num = random.randint(0,10)\n",
    "count = 0\n",
    "chance = 5\n",
    "\n",
    "while chance != 0:\n",
    "    guess = int(input('Guess a number: \\n'))\n",
    "    chance -=1\n",
    "    if guess == num:\n",
    "        print('You guessed the right number. You won!\\n')\n",
    "        break\n",
    "    if guess > num:\n",
    "        print('Wroung number. You guessed bigger number, try smaller!\\n')\n",
    "        count += 1\n",
    "    if guess < num:\n",
    "        print('Wroung number. You guessed smaller number, try bigger!\\n')\n",
    "        count += 1\n",
    "    if chance == 0:\n",
    "        print('you lost!!!')\n",
    "        \n",
    "print(f'You guessed wrong number {count} times.')"
   ]
  },
  {
   "cell_type": "code",
   "execution_count": null,
   "metadata": {},
   "outputs": [],
   "source": []
  }
 ],
 "metadata": {
  "kernelspec": {
   "display_name": "Python 3",
   "language": "python",
   "name": "python3"
  },
  "language_info": {
   "codemirror_mode": {
    "name": "ipython",
    "version": 3
   },
   "file_extension": ".py",
   "mimetype": "text/x-python",
   "name": "python",
   "nbconvert_exporter": "python",
   "pygments_lexer": "ipython3",
   "version": "3.7.6"
  }
 },
 "nbformat": 4,
 "nbformat_minor": 4
}
